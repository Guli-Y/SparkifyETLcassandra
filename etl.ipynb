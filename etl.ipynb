{
 "cells": [
  {
   "cell_type": "markdown",
   "metadata": {},
   "source": [
    "# Pre-processing the files"
   ]
  },
  {
   "cell_type": "code",
   "execution_count": 1,
   "metadata": {},
   "outputs": [],
   "source": [
    "# Import Python packages \n",
    "import pandas as pd\n",
    "import cassandra\n",
    "import os\n",
    "import csv"
   ]
  },
  {
   "cell_type": "code",
   "execution_count": 2,
   "metadata": {},
   "outputs": [],
   "source": [
    "# delete processed_data.csv if already exists\n",
    "! rm -f data/processed_data.csv"
   ]
  },
  {
   "cell_type": "code",
   "execution_count": 3,
   "metadata": {},
   "outputs": [],
   "source": [
    "# collect the path of all the data files into a list\n",
    "def collect_files():\n",
    "    datapath = os.path.join(os.getcwd(), 'data')\n",
    "    file_path_list = []\n",
    "    for root, dirs, files in os.walk(datapath):\n",
    "        for file in files:\n",
    "            file_path = os.path.join(root, file)\n",
    "            file_path_list.append(file_path)\n",
    "    return file_path_list\n",
    "files = collect_files()"
   ]
  },
  {
   "cell_type": "code",
   "execution_count": 4,
   "metadata": {},
   "outputs": [
    {
     "name": "stdout",
     "output_type": "stream",
     "text": [
      "['artist', 'auth', 'firstName', 'gender', 'itemInSession', 'lastName', 'length', 'level', 'location', 'method', 'page', 'registration', 'sessionId', 'song', 'status', 'ts', 'userId']\n",
      "\n",
      "number of lines in data list: 4965\n"
     ]
    }
   ],
   "source": [
    "# read all the files and add all the rows into data list\n",
    "data = []\n",
    "for file in files:\n",
    "    with open(file, 'r', newline='') as f:\n",
    "        reader = csv.reader(f)\n",
    "        header = next(reader)\n",
    "        for line in reader:\n",
    "            data.append(line)\n",
    "print(header) \n",
    "print('\\nnumber of lines in data list:', len(data))"
   ]
  },
  {
   "cell_type": "code",
   "execution_count": 5,
   "metadata": {},
   "outputs": [],
   "source": [
    "# write all the rows into process_data.csv\n",
    "with open('processed_data.csv', 'w', newline='') as f:\n",
    "    writer = csv.writer(f)\n",
    "    writer.writerow(['artist','firstName','gender','itemInSession','lastName',\n",
    "                     'length', 'level','location','sessionId','song','userId'])\n",
    "    for line in data:\n",
    "        if line[0]=='':\n",
    "            continue\n",
    "        writer.writerow([line[i] for i in [0, 2, 3, 4, 5, 6, 7, 8, 12, 13, -1]])"
   ]
  },
  {
   "cell_type": "code",
   "execution_count": 6,
   "metadata": {},
   "outputs": [
    {
     "name": "stdout",
     "output_type": "stream",
     "text": [
      "4224\n"
     ]
    }
   ],
   "source": [
    "# check number of entries\n",
    "with open('processed_data.csv', 'r', newline='') as f:\n",
    "    print(sum(1 for line in f))"
   ]
  },
  {
   "cell_type": "markdown",
   "metadata": {},
   "source": [
    "## Create Apache Cassandra database"
   ]
  },
  {
   "cell_type": "code",
   "execution_count": 7,
   "metadata": {},
   "outputs": [],
   "source": [
    "# connect to the cluster\n",
    "from cassandra.cluster import Cluster\n",
    "\n",
    "try:\n",
    "    cluster = Cluster()\n",
    "    session = cluster.connect()\n",
    "except Exception as e:\n",
    "    print('Error in cluster connection')\n",
    "    print(e)\n",
    "\n",
    "# create keyspace called sparkify\n",
    "try:\n",
    "    session.execute(\"\"\"CREATE KEYSPACE IF NOT EXISTS sparkify \n",
    "                    WITH REPLICATION = {'class' : 'SimpleStrategy', 'replication_factor' : 1}\"\"\")\n",
    "except Exception as e:\n",
    "    print('Error in creating keyspace')\n",
    "    print(e)\n",
    "    \n",
    "# set keyspace to sparkify\n",
    "try:\n",
    "    session.set_keyspace('sparkify')\n",
    "except Exception as e:\n",
    "    print('Error in setting keyspace')\n",
    "    print(e)"
   ]
  },
  {
   "cell_type": "markdown",
   "metadata": {},
   "source": [
    "## Build the database based on following queries\n",
    "\n",
    "- 1. query the artist, song title and song's length in the music app history that was heard during  sessionId = 338, and itemInSession  = 4\n",
    "\n",
    "- 2. query the name of artist, song (sorted by itemInSession) and user (first and last name) for userid = 10, sessionid = 182   \n",
    "\n",
    "- 3. query every user name (first and last) in my music app history who listened to the song 'All Hands Against His Own'"
   ]
  },
  {
   "cell_type": "markdown",
   "metadata": {},
   "source": [
    "#### query 1: the artist, song title and song's length in the music app history that was heard during  sessionId = 338, and itemInSession  = 4"
   ]
  },
  {
   "cell_type": "code",
   "execution_count": 8,
   "metadata": {},
   "outputs": [
    {
     "data": {
      "text/html": [
       "<div>\n",
       "<style scoped>\n",
       "    .dataframe tbody tr th:only-of-type {\n",
       "        vertical-align: middle;\n",
       "    }\n",
       "\n",
       "    .dataframe tbody tr th {\n",
       "        vertical-align: top;\n",
       "    }\n",
       "\n",
       "    .dataframe thead th {\n",
       "        text-align: right;\n",
       "    }\n",
       "</style>\n",
       "<table border=\"1\" class=\"dataframe\">\n",
       "  <thead>\n",
       "    <tr style=\"text-align: right;\">\n",
       "      <th></th>\n",
       "      <th>artist</th>\n",
       "      <th>firstName</th>\n",
       "      <th>gender</th>\n",
       "      <th>itemInSession</th>\n",
       "      <th>lastName</th>\n",
       "      <th>length</th>\n",
       "      <th>level</th>\n",
       "      <th>location</th>\n",
       "      <th>sessionId</th>\n",
       "      <th>song</th>\n",
       "      <th>userId</th>\n",
       "    </tr>\n",
       "  </thead>\n",
       "  <tbody>\n",
       "    <tr>\n",
       "      <th>0</th>\n",
       "      <td>The Killers</td>\n",
       "      <td>Jayden</td>\n",
       "      <td>M</td>\n",
       "      <td>32</td>\n",
       "      <td>Graves</td>\n",
       "      <td>246.80444</td>\n",
       "      <td>paid</td>\n",
       "      <td>Marinette, WI-MI</td>\n",
       "      <td>594</td>\n",
       "      <td>Read My Mind</td>\n",
       "      <td>25</td>\n",
       "    </tr>\n",
       "    <tr>\n",
       "      <th>1</th>\n",
       "      <td>Tamia</td>\n",
       "      <td>Jayden</td>\n",
       "      <td>M</td>\n",
       "      <td>33</td>\n",
       "      <td>Graves</td>\n",
       "      <td>243.09506</td>\n",
       "      <td>paid</td>\n",
       "      <td>Marinette, WI-MI</td>\n",
       "      <td>594</td>\n",
       "      <td>Officially Missing You (Radio Version)</td>\n",
       "      <td>25</td>\n",
       "    </tr>\n",
       "  </tbody>\n",
       "</table>\n",
       "</div>"
      ],
      "text/plain": [
       "        artist firstName gender  itemInSession lastName     length level  \\\n",
       "0  The Killers    Jayden      M             32   Graves  246.80444  paid   \n",
       "1        Tamia    Jayden      M             33   Graves  243.09506  paid   \n",
       "\n",
       "           location  sessionId                                    song  userId  \n",
       "0  Marinette, WI-MI        594                            Read My Mind      25  \n",
       "1  Marinette, WI-MI        594  Officially Missing You (Radio Version)      25  "
      ]
     },
     "execution_count": 8,
     "metadata": {},
     "output_type": "execute_result"
    }
   ],
   "source": [
    "df = pd.read_csv('processed_data.csv')\n",
    "df.head(2)"
   ]
  },
  {
   "cell_type": "code",
   "execution_count": 9,
   "metadata": {},
   "outputs": [],
   "source": [
    "# create table for query 1\n",
    "\n",
    "query = \"\"\"CREATE TABLE IF NOT EXISTS \n",
    "                table1 (\n",
    "                artist TEXT, song TEXT, song_length FLOAT, session_id INT, item_in_session INT,\n",
    "                PRIMARY KEY(session_id, item_in_session)\n",
    "                );\"\"\"\n",
    "try:\n",
    "    session.execute(query)\n",
    "except Exception as e:\n",
    "    print('Error with creating table')\n",
    "    print(e)                    "
   ]
  },
  {
   "cell_type": "code",
   "execution_count": 10,
   "metadata": {},
   "outputs": [
    {
     "name": "stdout",
     "output_type": "stream",
     "text": [
      "0 artist\n",
      "1 firstName\n",
      "2 gender\n",
      "3 itemInSession\n",
      "4 lastName\n",
      "5 length\n",
      "6 level\n",
      "7 location\n",
      "8 sessionId\n",
      "9 song\n",
      "10 userId\n"
     ]
    }
   ],
   "source": [
    "# get the index of each column \n",
    "\n",
    "for index, col in enumerate(df.columns):\n",
    "    print(index, col)"
   ]
  },
  {
   "cell_type": "code",
   "execution_count": 11,
   "metadata": {
    "scrolled": false
   },
   "outputs": [],
   "source": [
    "# insert the data into music_history data\n",
    "\n",
    "for row in df.values:\n",
    "    query = \"\"\"INSERT INTO table1 (\n",
    "                    artist, song, song_length, session_id, item_in_session\n",
    "                    )\n",
    "                VALUES (%s, %s, %s, %s, %s);\"\"\"\n",
    "    try:\n",
    "        session.execute(query, (row[i] for i in [0, 9, 5, 8, 3]))\n",
    "    except Exception as e:\n",
    "        print(e)"
   ]
  },
  {
   "cell_type": "code",
   "execution_count": 12,
   "metadata": {
    "scrolled": true
   },
   "outputs": [
    {
     "name": "stdout",
     "output_type": "stream",
     "text": [
      "Row(artist='Faithless', song='Music Matters (Mark Knight Dub)', song_length=495.30731201171875)\n"
     ]
    }
   ],
   "source": [
    "# run the query to validate our table\n",
    "\n",
    "try:\n",
    "    rows = session.execute(\"\"\"\n",
    "                    SELECT artist, song, song_length \n",
    "                    FROM table1\n",
    "                    WHERE session_id = 338 AND item_in_session = 4;\n",
    "                    \"\"\")\n",
    "except Except as e:\n",
    "    print(e)\n",
    "\n",
    "for row in rows:\n",
    "    print(row)"
   ]
  },
  {
   "cell_type": "markdown",
   "metadata": {},
   "source": [
    "#### query 2: the name of artist, song (sorted by itemInSession) and user (first and last name) for userid = 10, sessionid = 182"
   ]
  },
  {
   "cell_type": "code",
   "execution_count": 13,
   "metadata": {},
   "outputs": [],
   "source": [
    "# create table for query 2\n",
    "\n",
    "query = \"\"\"CREATE TABLE IF NOT EXISTS \n",
    "            table2 (\n",
    "                artist TEXT, song TEXT, session_id INT, item_in_session INT, user TEXT, user_id INT,\n",
    "                PRIMARY KEY(user_id, session_id, item_in_session)\n",
    "                );\"\"\"\n",
    "try:\n",
    "    session.execute(query)\n",
    "except Exception as e:\n",
    "    print('Error with creating table')\n",
    "    print(e)       \n",
    "                    "
   ]
  },
  {
   "cell_type": "code",
   "execution_count": 14,
   "metadata": {},
   "outputs": [
    {
     "name": "stdout",
     "output_type": "stream",
     "text": [
      "0 artist\n",
      "1 firstName\n",
      "2 gender\n",
      "3 itemInSession\n",
      "4 lastName\n",
      "5 length\n",
      "6 level\n",
      "7 location\n",
      "8 sessionId\n",
      "9 song\n",
      "10 userId\n"
     ]
    }
   ],
   "source": [
    "# get the index of each column \n",
    "\n",
    "for index, col in enumerate(df.columns):\n",
    "    print(index, col)"
   ]
  },
  {
   "cell_type": "code",
   "execution_count": 15,
   "metadata": {
    "scrolled": false
   },
   "outputs": [],
   "source": [
    "# insert the data into music_history data\n",
    "\n",
    "for row in df.values:\n",
    "    query = \"\"\"INSERT INTO table2 (\n",
    "                    artist, song, session_id, item_in_session, user, user_id\n",
    "                    )\n",
    "                VALUES (%s, %s, %s, %s, %s, %s);\"\"\"\n",
    "    try:\n",
    "        session.execute(query, (row[0], row[9], row[8], row[3], row[1]+' '+row[4], row[10]))\n",
    "    except Exception as e:\n",
    "        print(e)"
   ]
  },
  {
   "cell_type": "code",
   "execution_count": 16,
   "metadata": {
    "scrolled": true
   },
   "outputs": [
    {
     "name": "stdout",
     "output_type": "stream",
     "text": [
      "Row(artist='Down To The Bone', song=\"Keep On Keepin' On\", user='Sylvie Cruz')\n",
      "Row(artist='Three Drives', song='Greece 2000', user='Sylvie Cruz')\n",
      "Row(artist='Sebastien Tellier', song='Kilometer', user='Sylvie Cruz')\n",
      "Row(artist='Lonnie Gordon', song='Catch You Baby (Steve Pitron & Max Sanna Radio Edit)', user='Sylvie Cruz')\n"
     ]
    }
   ],
   "source": [
    "# run the query to validate our table\n",
    "\n",
    "try:\n",
    "    rows = session.execute(\"\"\"\n",
    "                    SELECT artist, song, user\n",
    "                    FROM table2\n",
    "                    WHERE user_id = 10 AND session_id = 182;\n",
    "                    \"\"\")\n",
    "except Exception as e:\n",
    "    print(e)\n",
    "\n",
    "for row in rows:\n",
    "    print(row)"
   ]
  },
  {
   "cell_type": "markdown",
   "metadata": {},
   "source": [
    "#### query 3: every user name (first and last) in my music app history who listened to the song 'All Hands Against His Own'"
   ]
  },
  {
   "cell_type": "code",
   "execution_count": 17,
   "metadata": {},
   "outputs": [],
   "source": [
    "# create table for query 3\n",
    "\n",
    "query = \"\"\"CREATE TABLE IF NOT EXISTS \n",
    "                table3 (\n",
    "                song TEXT, user TEXT, user_id INT,\n",
    "                PRIMARY KEY(song, user_id)\n",
    "                );\"\"\"\n",
    "try:\n",
    "    session.execute(query)\n",
    "except Exception as e:\n",
    "    print('Error with creating table')\n",
    "    print(e)        \n",
    "                    "
   ]
  },
  {
   "cell_type": "code",
   "execution_count": 18,
   "metadata": {},
   "outputs": [
    {
     "name": "stdout",
     "output_type": "stream",
     "text": [
      "0 artist\n",
      "1 firstName\n",
      "2 gender\n",
      "3 itemInSession\n",
      "4 lastName\n",
      "5 length\n",
      "6 level\n",
      "7 location\n",
      "8 sessionId\n",
      "9 song\n",
      "10 userId\n"
     ]
    }
   ],
   "source": [
    "# get the index of each column \n",
    "\n",
    "for index, col in enumerate(df.columns):\n",
    "    print(index, col)"
   ]
  },
  {
   "cell_type": "code",
   "execution_count": 19,
   "metadata": {
    "scrolled": false
   },
   "outputs": [],
   "source": [
    "# insert the data into music_history data\n",
    "\n",
    "for row in df.values:\n",
    "    query = \"\"\"INSERT INTO table3 (\n",
    "                    song, user, user_id\n",
    "                    )\n",
    "                VALUES (%s, %s, %s);\"\"\"\n",
    "    try:\n",
    "        session.execute(query, (row[9], row[1]+' '+row[4], row[10]))\n",
    "    except Exception as e:\n",
    "        print(e)"
   ]
  },
  {
   "cell_type": "code",
   "execution_count": 20,
   "metadata": {
    "scrolled": true
   },
   "outputs": [
    {
     "name": "stdout",
     "output_type": "stream",
     "text": [
      "Row(user='Jacqueline Lynch')\n",
      "Row(user='Tegan Levine')\n",
      "Row(user='Sara Johnson')\n"
     ]
    }
   ],
   "source": [
    "# run the query to validate our table\n",
    "\n",
    "try:\n",
    "    rows = session.execute(\"\"\"\n",
    "                    SELECT user \n",
    "                    FROM table3\n",
    "                    WHERE song='All Hands Against His Own';\n",
    "                    \"\"\")\n",
    "except Except as e:\n",
    "    print(e)\n",
    "\n",
    "for row in rows:\n",
    "    print(row)"
   ]
  },
  {
   "cell_type": "markdown",
   "metadata": {},
   "source": [
    "### Drop the tables before closing out the sessions"
   ]
  },
  {
   "cell_type": "code",
   "execution_count": 21,
   "metadata": {},
   "outputs": [],
   "source": [
    "for table in ['table1', 'table2', 'table3']:\n",
    "    try:\n",
    "        rows = session.execute(f\"\"\"\n",
    "                        DROP TABLE {table};\n",
    "                        \"\"\")\n",
    "    except Exception as e:\n",
    "        print(f'Error with dropping {table} table')\n",
    "        print(e)\n"
   ]
  },
  {
   "cell_type": "markdown",
   "metadata": {},
   "source": [
    "### Close the session and cluster connection¶"
   ]
  },
  {
   "cell_type": "code",
   "execution_count": 22,
   "metadata": {},
   "outputs": [],
   "source": [
    "session.shutdown()\n",
    "cluster.shutdown()"
   ]
  },
  {
   "cell_type": "code",
   "execution_count": null,
   "metadata": {},
   "outputs": [],
   "source": []
  }
 ],
 "metadata": {
  "kernelspec": {
   "display_name": "Python 3",
   "language": "python",
   "name": "python3"
  },
  "language_info": {
   "codemirror_mode": {
    "name": "ipython",
    "version": 3
   },
   "file_extension": ".py",
   "mimetype": "text/x-python",
   "name": "python",
   "nbconvert_exporter": "python",
   "pygments_lexer": "ipython3",
   "version": "3.8.6"
  }
 },
 "nbformat": 4,
 "nbformat_minor": 2
}
